{
 "cells": [
  {
   "cell_type": "markdown",
   "metadata": {},
   "source": [
    "# Importing the required lib \n"
   ]
  },
  {
   "cell_type": "code",
   "execution_count": 10,
   "metadata": {},
   "outputs": [],
   "source": [
    "import pandas as pd\n",
    "import sklearn\n",
    "#from prophet import Prophet\n",
    "#from prophet.plot import add_changepoints_to_plot"
   ]
  },
  {
   "cell_type": "markdown",
   "metadata": {},
   "source": [
    "# Reading the data and exploring the data for daily"
   ]
  },
  {
   "cell_type": "code",
   "execution_count": 19,
   "metadata": {},
   "outputs": [
    {
     "data": {
      "text/html": [
       "<div>\n",
       "<style scoped>\n",
       "    .dataframe tbody tr th:only-of-type {\n",
       "        vertical-align: middle;\n",
       "    }\n",
       "\n",
       "    .dataframe tbody tr th {\n",
       "        vertical-align: top;\n",
       "    }\n",
       "\n",
       "    .dataframe thead th {\n",
       "        text-align: right;\n",
       "    }\n",
       "</style>\n",
       "<table border=\"1\" class=\"dataframe\">\n",
       "  <thead>\n",
       "    <tr style=\"text-align: right;\">\n",
       "      <th></th>\n",
       "      <th>year</th>\n",
       "      <th>month</th>\n",
       "      <th>day</th>\n",
       "      <th>decimaldate</th>\n",
       "      <th>dsn</th>\n",
       "      <th>sd</th>\n",
       "      <th>noo</th>\n",
       "      <th>dpi</th>\n",
       "    </tr>\n",
       "  </thead>\n",
       "  <tbody>\n",
       "    <tr>\n",
       "      <th>0</th>\n",
       "      <td>1818</td>\n",
       "      <td>1</td>\n",
       "      <td>1</td>\n",
       "      <td>1818.001</td>\n",
       "      <td>-1</td>\n",
       "      <td>-1.0</td>\n",
       "      <td>0</td>\n",
       "      <td>1</td>\n",
       "    </tr>\n",
       "    <tr>\n",
       "      <th>1</th>\n",
       "      <td>1818</td>\n",
       "      <td>1</td>\n",
       "      <td>2</td>\n",
       "      <td>1818.004</td>\n",
       "      <td>-1</td>\n",
       "      <td>-1.0</td>\n",
       "      <td>0</td>\n",
       "      <td>1</td>\n",
       "    </tr>\n",
       "    <tr>\n",
       "      <th>2</th>\n",
       "      <td>1818</td>\n",
       "      <td>1</td>\n",
       "      <td>3</td>\n",
       "      <td>1818.007</td>\n",
       "      <td>-1</td>\n",
       "      <td>-1.0</td>\n",
       "      <td>0</td>\n",
       "      <td>1</td>\n",
       "    </tr>\n",
       "    <tr>\n",
       "      <th>3</th>\n",
       "      <td>1818</td>\n",
       "      <td>1</td>\n",
       "      <td>4</td>\n",
       "      <td>1818.010</td>\n",
       "      <td>-1</td>\n",
       "      <td>-1.0</td>\n",
       "      <td>0</td>\n",
       "      <td>1</td>\n",
       "    </tr>\n",
       "    <tr>\n",
       "      <th>4</th>\n",
       "      <td>1818</td>\n",
       "      <td>1</td>\n",
       "      <td>5</td>\n",
       "      <td>1818.012</td>\n",
       "      <td>-1</td>\n",
       "      <td>-1.0</td>\n",
       "      <td>0</td>\n",
       "      <td>1</td>\n",
       "    </tr>\n",
       "  </tbody>\n",
       "</table>\n",
       "</div>"
      ],
      "text/plain": [
       "   year  month  day  decimaldate  dsn   sd  noo  dpi\n",
       "0  1818      1    1     1818.001   -1 -1.0    0    1\n",
       "1  1818      1    2     1818.004   -1 -1.0    0    1\n",
       "2  1818      1    3     1818.007   -1 -1.0    0    1\n",
       "3  1818      1    4     1818.010   -1 -1.0    0    1\n",
       "4  1818      1    5     1818.012   -1 -1.0    0    1"
      ]
     },
     "execution_count": 19,
     "metadata": {},
     "output_type": "execute_result"
    }
   ],
   "source": [
    "df = pd.read_csv('SN_d_tot_V2.0.csv', delimiter=\";\")\n",
    "df.head()"
   ]
  },
  {
   "cell_type": "code",
   "execution_count": 13,
   "metadata": {},
   "outputs": [],
   "source": [
    "df['date'] = pd.to_datetime(df[['year', 'month', 'day']])"
   ]
  },
  {
   "cell_type": "code",
   "execution_count": 18,
   "metadata": {},
   "outputs": [
    {
     "data": {
      "text/html": [
       "<div>\n",
       "<style scoped>\n",
       "    .dataframe tbody tr th:only-of-type {\n",
       "        vertical-align: middle;\n",
       "    }\n",
       "\n",
       "    .dataframe tbody tr th {\n",
       "        vertical-align: top;\n",
       "    }\n",
       "\n",
       "    .dataframe thead th {\n",
       "        text-align: right;\n",
       "    }\n",
       "</style>\n",
       "<table border=\"1\" class=\"dataframe\">\n",
       "  <thead>\n",
       "    <tr style=\"text-align: right;\">\n",
       "      <th></th>\n",
       "      <th>year</th>\n",
       "      <th>month</th>\n",
       "      <th>day</th>\n",
       "      <th>decimaldate</th>\n",
       "      <th>dsn</th>\n",
       "      <th>sd</th>\n",
       "      <th>noo</th>\n",
       "      <th>dpi</th>\n",
       "      <th>date</th>\n",
       "    </tr>\n",
       "  </thead>\n",
       "  <tbody>\n",
       "    <tr>\n",
       "      <th>0</th>\n",
       "      <td>1818</td>\n",
       "      <td>1</td>\n",
       "      <td>1</td>\n",
       "      <td>1818.001</td>\n",
       "      <td>-1</td>\n",
       "      <td>-1.0</td>\n",
       "      <td>0</td>\n",
       "      <td>1</td>\n",
       "      <td>1818-01-01</td>\n",
       "    </tr>\n",
       "    <tr>\n",
       "      <th>1</th>\n",
       "      <td>1818</td>\n",
       "      <td>1</td>\n",
       "      <td>2</td>\n",
       "      <td>1818.004</td>\n",
       "      <td>-1</td>\n",
       "      <td>-1.0</td>\n",
       "      <td>0</td>\n",
       "      <td>1</td>\n",
       "      <td>1818-01-02</td>\n",
       "    </tr>\n",
       "    <tr>\n",
       "      <th>2</th>\n",
       "      <td>1818</td>\n",
       "      <td>1</td>\n",
       "      <td>3</td>\n",
       "      <td>1818.007</td>\n",
       "      <td>-1</td>\n",
       "      <td>-1.0</td>\n",
       "      <td>0</td>\n",
       "      <td>1</td>\n",
       "      <td>1818-01-03</td>\n",
       "    </tr>\n",
       "    <tr>\n",
       "      <th>3</th>\n",
       "      <td>1818</td>\n",
       "      <td>1</td>\n",
       "      <td>4</td>\n",
       "      <td>1818.010</td>\n",
       "      <td>-1</td>\n",
       "      <td>-1.0</td>\n",
       "      <td>0</td>\n",
       "      <td>1</td>\n",
       "      <td>1818-01-04</td>\n",
       "    </tr>\n",
       "    <tr>\n",
       "      <th>4</th>\n",
       "      <td>1818</td>\n",
       "      <td>1</td>\n",
       "      <td>5</td>\n",
       "      <td>1818.012</td>\n",
       "      <td>-1</td>\n",
       "      <td>-1.0</td>\n",
       "      <td>0</td>\n",
       "      <td>1</td>\n",
       "      <td>1818-01-05</td>\n",
       "    </tr>\n",
       "  </tbody>\n",
       "</table>\n",
       "</div>"
      ],
      "text/plain": [
       "   year  month  day  decimaldate  dsn   sd  noo  dpi       date\n",
       "0  1818      1    1     1818.001   -1 -1.0    0    1 1818-01-01\n",
       "1  1818      1    2     1818.004   -1 -1.0    0    1 1818-01-02\n",
       "2  1818      1    3     1818.007   -1 -1.0    0    1 1818-01-03\n",
       "3  1818      1    4     1818.010   -1 -1.0    0    1 1818-01-04\n",
       "4  1818      1    5     1818.012   -1 -1.0    0    1 1818-01-05"
      ]
     },
     "execution_count": 18,
     "metadata": {},
     "output_type": "execute_result"
    }
   ],
   "source": [
    "df.head()"
   ]
  },
  {
   "cell_type": "code",
   "execution_count": 15,
   "metadata": {},
   "outputs": [
    {
     "data": {
      "text/html": [
       "<div>\n",
       "<style scoped>\n",
       "    .dataframe tbody tr th:only-of-type {\n",
       "        vertical-align: middle;\n",
       "    }\n",
       "\n",
       "    .dataframe tbody tr th {\n",
       "        vertical-align: top;\n",
       "    }\n",
       "\n",
       "    .dataframe thead th {\n",
       "        text-align: right;\n",
       "    }\n",
       "</style>\n",
       "<table border=\"1\" class=\"dataframe\">\n",
       "  <thead>\n",
       "    <tr style=\"text-align: right;\">\n",
       "      <th></th>\n",
       "      <th>ds</th>\n",
       "      <th>y</th>\n",
       "    </tr>\n",
       "  </thead>\n",
       "  <tbody>\n",
       "    <tr>\n",
       "      <th>0</th>\n",
       "      <td>1818-01-01</td>\n",
       "      <td>-1</td>\n",
       "    </tr>\n",
       "    <tr>\n",
       "      <th>1</th>\n",
       "      <td>1818-01-02</td>\n",
       "      <td>-1</td>\n",
       "    </tr>\n",
       "    <tr>\n",
       "      <th>2</th>\n",
       "      <td>1818-01-03</td>\n",
       "      <td>-1</td>\n",
       "    </tr>\n",
       "    <tr>\n",
       "      <th>3</th>\n",
       "      <td>1818-01-04</td>\n",
       "      <td>-1</td>\n",
       "    </tr>\n",
       "    <tr>\n",
       "      <th>4</th>\n",
       "      <td>1818-01-05</td>\n",
       "      <td>-1</td>\n",
       "    </tr>\n",
       "    <tr>\n",
       "      <th>5</th>\n",
       "      <td>1818-01-06</td>\n",
       "      <td>-1</td>\n",
       "    </tr>\n",
       "    <tr>\n",
       "      <th>6</th>\n",
       "      <td>1818-01-07</td>\n",
       "      <td>-1</td>\n",
       "    </tr>\n",
       "    <tr>\n",
       "      <th>7</th>\n",
       "      <td>1818-01-08</td>\n",
       "      <td>65</td>\n",
       "    </tr>\n",
       "    <tr>\n",
       "      <th>8</th>\n",
       "      <td>1818-01-09</td>\n",
       "      <td>-1</td>\n",
       "    </tr>\n",
       "    <tr>\n",
       "      <th>9</th>\n",
       "      <td>1818-01-10</td>\n",
       "      <td>-1</td>\n",
       "    </tr>\n",
       "    <tr>\n",
       "      <th>10</th>\n",
       "      <td>1818-01-11</td>\n",
       "      <td>-1</td>\n",
       "    </tr>\n",
       "    <tr>\n",
       "      <th>11</th>\n",
       "      <td>1818-01-12</td>\n",
       "      <td>-1</td>\n",
       "    </tr>\n",
       "    <tr>\n",
       "      <th>12</th>\n",
       "      <td>1818-01-13</td>\n",
       "      <td>37</td>\n",
       "    </tr>\n",
       "    <tr>\n",
       "      <th>13</th>\n",
       "      <td>1818-01-14</td>\n",
       "      <td>-1</td>\n",
       "    </tr>\n",
       "    <tr>\n",
       "      <th>14</th>\n",
       "      <td>1818-01-15</td>\n",
       "      <td>-1</td>\n",
       "    </tr>\n",
       "    <tr>\n",
       "      <th>15</th>\n",
       "      <td>1818-01-16</td>\n",
       "      <td>-1</td>\n",
       "    </tr>\n",
       "    <tr>\n",
       "      <th>16</th>\n",
       "      <td>1818-01-17</td>\n",
       "      <td>77</td>\n",
       "    </tr>\n",
       "    <tr>\n",
       "      <th>17</th>\n",
       "      <td>1818-01-18</td>\n",
       "      <td>98</td>\n",
       "    </tr>\n",
       "    <tr>\n",
       "      <th>18</th>\n",
       "      <td>1818-01-19</td>\n",
       "      <td>105</td>\n",
       "    </tr>\n",
       "    <tr>\n",
       "      <th>19</th>\n",
       "      <td>1818-01-20</td>\n",
       "      <td>-1</td>\n",
       "    </tr>\n",
       "  </tbody>\n",
       "</table>\n",
       "</div>"
      ],
      "text/plain": [
       "           ds    y\n",
       "0  1818-01-01   -1\n",
       "1  1818-01-02   -1\n",
       "2  1818-01-03   -1\n",
       "3  1818-01-04   -1\n",
       "4  1818-01-05   -1\n",
       "5  1818-01-06   -1\n",
       "6  1818-01-07   -1\n",
       "7  1818-01-08   65\n",
       "8  1818-01-09   -1\n",
       "9  1818-01-10   -1\n",
       "10 1818-01-11   -1\n",
       "11 1818-01-12   -1\n",
       "12 1818-01-13   37\n",
       "13 1818-01-14   -1\n",
       "14 1818-01-15   -1\n",
       "15 1818-01-16   -1\n",
       "16 1818-01-17   77\n",
       "17 1818-01-18   98\n",
       "18 1818-01-19  105\n",
       "19 1818-01-20   -1"
      ]
     },
     "execution_count": 15,
     "metadata": {},
     "output_type": "execute_result"
    }
   ],
   "source": [
    "dfslim = df[['date', 'dsn']]\n",
    "dfslim = dfslim.rename(columns={'date':'ds', 'dsn': 'y'})\n",
    "dfslim[:20]"
   ]
  },
  {
   "cell_type": "code",
   "execution_count": 16,
   "metadata": {},
   "outputs": [
    {
     "ename": "NameError",
     "evalue": "name 'Prophet' is not defined",
     "output_type": "error",
     "traceback": [
      "\u001b[0;31m---------------------------------------------------------------------------\u001b[0m",
      "\u001b[0;31mNameError\u001b[0m                                 Traceback (most recent call last)",
      "\u001b[0;32m<ipython-input-16-1583fec2069c>\u001b[0m in \u001b[0;36m<module>\u001b[0;34m\u001b[0m\n\u001b[0;32m----> 1\u001b[0;31m \u001b[0mm\u001b[0m \u001b[0;34m=\u001b[0m \u001b[0mProphet\u001b[0m\u001b[0;34m(\u001b[0m\u001b[0mdaily_seasonality\u001b[0m\u001b[0;34m=\u001b[0m\u001b[0;32mTrue\u001b[0m\u001b[0;34m)\u001b[0m\u001b[0;34m\u001b[0m\u001b[0;34m\u001b[0m\u001b[0m\n\u001b[0m\u001b[1;32m      2\u001b[0m \u001b[0mm\u001b[0m\u001b[0;34m.\u001b[0m\u001b[0mfit\u001b[0m\u001b[0;34m(\u001b[0m\u001b[0mdfslim\u001b[0m\u001b[0;34m[\u001b[0m\u001b[0;34m:\u001b[0m\u001b[0;36m100\u001b[0m\u001b[0;34m]\u001b[0m\u001b[0;34m)\u001b[0m\u001b[0;34m\u001b[0m\u001b[0;34m\u001b[0m\u001b[0m\n",
      "\u001b[0;31mNameError\u001b[0m: name 'Prophet' is not defined"
     ]
    }
   ],
   "source": [
    "m = Prophet(daily_seasonality=True)\n",
    "m.fit(dfslim)"
   ]
  },
  {
   "cell_type": "code",
   "execution_count": null,
   "metadata": {},
   "outputs": [],
   "source": [
    "future_daily_100 = m.make_future_dataframe(periods=100) # 200, # 365\n",
    "future_daily_200 = m.make_future_dataframe(periods=200) # 200, # 365\n",
    "future_daily_365 = m.make_future_dataframe(periods=365) # 200, # 365"
   ]
  },
  {
   "cell_type": "code",
   "execution_count": null,
   "metadata": {},
   "outputs": [],
   "source": [
    "print(future_daily_100.tail())\n",
    "print(future_daily_200.tail())\n",
    "print(future_daily_365.tail())"
   ]
  },
  {
   "cell_type": "code",
   "execution_count": null,
   "metadata": {},
   "outputs": [],
   "source": [
    "forecast100 = m.predict(future_daily_100)\n",
    "forecast200 = m.predict(future_daily_200)\n",
    "forecast365 = m.predict(future_daily_365)"
   ]
  },
  {
   "cell_type": "code",
   "execution_count": null,
   "metadata": {},
   "outputs": [],
   "source": [
    "forecast100[['ds', 'yhat', 'yhat_lower', 'yhat_upper']].tail()"
   ]
  },
  {
   "cell_type": "code",
   "execution_count": null,
   "metadata": {},
   "outputs": [],
   "source": [
    "forecast200[['ds', 'yhat', 'yhat_lower', 'yhat_upper']].tail()"
   ]
  },
  {
   "cell_type": "code",
   "execution_count": null,
   "metadata": {},
   "outputs": [],
   "source": [
    "forecast365[['ds', 'yhat', 'yhat_lower', 'yhat_upper']].tail()"
   ]
  },
  {
   "cell_type": "code",
   "execution_count": null,
   "metadata": {},
   "outputs": [],
   "source": [
    "fig100 = m.plot(forecast100)"
   ]
  },
  {
   "cell_type": "code",
   "execution_count": null,
   "metadata": {},
   "outputs": [],
   "source": [
    "fig200 = m.plot(forecast200)"
   ]
  },
  {
   "cell_type": "code",
   "execution_count": null,
   "metadata": {},
   "outputs": [],
   "source": [
    "fig365 = m.plot(forecast365)"
   ]
  },
  {
   "cell_type": "code",
   "execution_count": 24,
   "metadata": {},
   "outputs": [],
   "source": [
    "cap = max(df['dsn'])"
   ]
  },
  {
   "cell_type": "code",
   "execution_count": 22,
   "metadata": {},
   "outputs": [
    {
     "ename": "KeyError",
     "evalue": "\"['date', 'cap'] not in index\"",
     "output_type": "error",
     "traceback": [
      "\u001b[0;31m---------------------------------------------------------------------------\u001b[0m",
      "\u001b[0;31mKeyError\u001b[0m                                  Traceback (most recent call last)",
      "\u001b[0;32m<ipython-input-22-5d722014cbe1>\u001b[0m in \u001b[0;36m<module>\u001b[0;34m\u001b[0m\n\u001b[0;32m----> 1\u001b[0;31m \u001b[0mdfslim_cap\u001b[0m \u001b[0;34m=\u001b[0m \u001b[0mdf\u001b[0m\u001b[0;34m[\u001b[0m\u001b[0;34m[\u001b[0m\u001b[0;34m'date'\u001b[0m\u001b[0;34m,\u001b[0m \u001b[0;34m'dsn'\u001b[0m\u001b[0;34m,\u001b[0m \u001b[0;34m'cap'\u001b[0m\u001b[0;34m]\u001b[0m\u001b[0;34m]\u001b[0m\u001b[0;34m\u001b[0m\u001b[0;34m\u001b[0m\u001b[0m\n\u001b[0m\u001b[1;32m      2\u001b[0m \u001b[0mdfslim_cap\u001b[0m \u001b[0;34m=\u001b[0m \u001b[0mdfslim_cap\u001b[0m\u001b[0;34m.\u001b[0m\u001b[0mrename\u001b[0m\u001b[0;34m(\u001b[0m\u001b[0mcolumns\u001b[0m\u001b[0;34m=\u001b[0m\u001b[0;34m{\u001b[0m\u001b[0;34m'date'\u001b[0m\u001b[0;34m:\u001b[0m\u001b[0;34m'ds'\u001b[0m\u001b[0;34m,\u001b[0m \u001b[0;34m'dsn'\u001b[0m\u001b[0;34m:\u001b[0m \u001b[0;34m'y'\u001b[0m\u001b[0;34m,\u001b[0m \u001b[0;34m'cap'\u001b[0m\u001b[0;34m:\u001b[0m \u001b[0;34m'cap'\u001b[0m\u001b[0;34m}\u001b[0m\u001b[0;34m)\u001b[0m\u001b[0;34m\u001b[0m\u001b[0;34m\u001b[0m\u001b[0m\n\u001b[1;32m      3\u001b[0m \u001b[0mdfslim_cap\u001b[0m\u001b[0;34m.\u001b[0m\u001b[0mhead\u001b[0m\u001b[0;34m(\u001b[0m\u001b[0;34m)\u001b[0m\u001b[0;34m\u001b[0m\u001b[0;34m\u001b[0m\u001b[0m\n\u001b[1;32m      4\u001b[0m \u001b[0;31m# dfslim_cap = df.insert(2, \"cap\", cap)\u001b[0m\u001b[0;34m\u001b[0m\u001b[0;34m\u001b[0m\u001b[0;34m\u001b[0m\u001b[0m\n\u001b[1;32m      5\u001b[0m \u001b[0;31m# dfslim_cap[:100]\u001b[0m\u001b[0;34m\u001b[0m\u001b[0;34m\u001b[0m\u001b[0;34m\u001b[0m\u001b[0m\n",
      "\u001b[0;32m~/workspace/jup-virtv/lib/python3.8/site-packages/pandas/core/frame.py\u001b[0m in \u001b[0;36m__getitem__\u001b[0;34m(self, key)\u001b[0m\n\u001b[1;32m   3028\u001b[0m             \u001b[0;32mif\u001b[0m \u001b[0mis_iterator\u001b[0m\u001b[0;34m(\u001b[0m\u001b[0mkey\u001b[0m\u001b[0;34m)\u001b[0m\u001b[0;34m:\u001b[0m\u001b[0;34m\u001b[0m\u001b[0;34m\u001b[0m\u001b[0m\n\u001b[1;32m   3029\u001b[0m                 \u001b[0mkey\u001b[0m \u001b[0;34m=\u001b[0m \u001b[0mlist\u001b[0m\u001b[0;34m(\u001b[0m\u001b[0mkey\u001b[0m\u001b[0;34m)\u001b[0m\u001b[0;34m\u001b[0m\u001b[0;34m\u001b[0m\u001b[0m\n\u001b[0;32m-> 3030\u001b[0;31m             \u001b[0mindexer\u001b[0m \u001b[0;34m=\u001b[0m \u001b[0mself\u001b[0m\u001b[0;34m.\u001b[0m\u001b[0mloc\u001b[0m\u001b[0;34m.\u001b[0m\u001b[0m_get_listlike_indexer\u001b[0m\u001b[0;34m(\u001b[0m\u001b[0mkey\u001b[0m\u001b[0;34m,\u001b[0m \u001b[0maxis\u001b[0m\u001b[0;34m=\u001b[0m\u001b[0;36m1\u001b[0m\u001b[0;34m,\u001b[0m \u001b[0mraise_missing\u001b[0m\u001b[0;34m=\u001b[0m\u001b[0;32mTrue\u001b[0m\u001b[0;34m)\u001b[0m\u001b[0;34m[\u001b[0m\u001b[0;36m1\u001b[0m\u001b[0;34m]\u001b[0m\u001b[0;34m\u001b[0m\u001b[0;34m\u001b[0m\u001b[0m\n\u001b[0m\u001b[1;32m   3031\u001b[0m \u001b[0;34m\u001b[0m\u001b[0m\n\u001b[1;32m   3032\u001b[0m         \u001b[0;31m# take() does not accept boolean indexers\u001b[0m\u001b[0;34m\u001b[0m\u001b[0;34m\u001b[0m\u001b[0;34m\u001b[0m\u001b[0m\n",
      "\u001b[0;32m~/workspace/jup-virtv/lib/python3.8/site-packages/pandas/core/indexing.py\u001b[0m in \u001b[0;36m_get_listlike_indexer\u001b[0;34m(self, key, axis, raise_missing)\u001b[0m\n\u001b[1;32m   1264\u001b[0m             \u001b[0mkeyarr\u001b[0m\u001b[0;34m,\u001b[0m \u001b[0mindexer\u001b[0m\u001b[0;34m,\u001b[0m \u001b[0mnew_indexer\u001b[0m \u001b[0;34m=\u001b[0m \u001b[0max\u001b[0m\u001b[0;34m.\u001b[0m\u001b[0m_reindex_non_unique\u001b[0m\u001b[0;34m(\u001b[0m\u001b[0mkeyarr\u001b[0m\u001b[0;34m)\u001b[0m\u001b[0;34m\u001b[0m\u001b[0;34m\u001b[0m\u001b[0m\n\u001b[1;32m   1265\u001b[0m \u001b[0;34m\u001b[0m\u001b[0m\n\u001b[0;32m-> 1266\u001b[0;31m         \u001b[0mself\u001b[0m\u001b[0;34m.\u001b[0m\u001b[0m_validate_read_indexer\u001b[0m\u001b[0;34m(\u001b[0m\u001b[0mkeyarr\u001b[0m\u001b[0;34m,\u001b[0m \u001b[0mindexer\u001b[0m\u001b[0;34m,\u001b[0m \u001b[0maxis\u001b[0m\u001b[0;34m,\u001b[0m \u001b[0mraise_missing\u001b[0m\u001b[0;34m=\u001b[0m\u001b[0mraise_missing\u001b[0m\u001b[0;34m)\u001b[0m\u001b[0;34m\u001b[0m\u001b[0;34m\u001b[0m\u001b[0m\n\u001b[0m\u001b[1;32m   1267\u001b[0m         \u001b[0;32mreturn\u001b[0m \u001b[0mkeyarr\u001b[0m\u001b[0;34m,\u001b[0m \u001b[0mindexer\u001b[0m\u001b[0;34m\u001b[0m\u001b[0;34m\u001b[0m\u001b[0m\n\u001b[1;32m   1268\u001b[0m \u001b[0;34m\u001b[0m\u001b[0m\n",
      "\u001b[0;32m~/workspace/jup-virtv/lib/python3.8/site-packages/pandas/core/indexing.py\u001b[0m in \u001b[0;36m_validate_read_indexer\u001b[0;34m(self, key, indexer, axis, raise_missing)\u001b[0m\n\u001b[1;32m   1314\u001b[0m             \u001b[0;32mif\u001b[0m \u001b[0mraise_missing\u001b[0m\u001b[0;34m:\u001b[0m\u001b[0;34m\u001b[0m\u001b[0;34m\u001b[0m\u001b[0m\n\u001b[1;32m   1315\u001b[0m                 \u001b[0mnot_found\u001b[0m \u001b[0;34m=\u001b[0m \u001b[0mlist\u001b[0m\u001b[0;34m(\u001b[0m\u001b[0mset\u001b[0m\u001b[0;34m(\u001b[0m\u001b[0mkey\u001b[0m\u001b[0;34m)\u001b[0m \u001b[0;34m-\u001b[0m \u001b[0mset\u001b[0m\u001b[0;34m(\u001b[0m\u001b[0max\u001b[0m\u001b[0;34m)\u001b[0m\u001b[0;34m)\u001b[0m\u001b[0;34m\u001b[0m\u001b[0;34m\u001b[0m\u001b[0m\n\u001b[0;32m-> 1316\u001b[0;31m                 \u001b[0;32mraise\u001b[0m \u001b[0mKeyError\u001b[0m\u001b[0;34m(\u001b[0m\u001b[0;34mf\"{not_found} not in index\"\u001b[0m\u001b[0;34m)\u001b[0m\u001b[0;34m\u001b[0m\u001b[0;34m\u001b[0m\u001b[0m\n\u001b[0m\u001b[1;32m   1317\u001b[0m \u001b[0;34m\u001b[0m\u001b[0m\n\u001b[1;32m   1318\u001b[0m             \u001b[0mnot_found\u001b[0m \u001b[0;34m=\u001b[0m \u001b[0mkey\u001b[0m\u001b[0;34m[\u001b[0m\u001b[0mmissing_mask\u001b[0m\u001b[0;34m]\u001b[0m\u001b[0;34m\u001b[0m\u001b[0;34m\u001b[0m\u001b[0m\n",
      "\u001b[0;31mKeyError\u001b[0m: \"['date', 'cap'] not in index\""
     ]
    }
   ],
   "source": [
    "dfslim_cap = df[['date', 'dsn', 'cap']]\n",
    "dfslim_cap = dfslim_cap.rename(columns={'date':'ds', 'dsn': 'y', 'cap': 'cap'})\n",
    "dfslim_cap.head()\n",
    "# dfslim_cap = df.insert(2, \"cap\", cap)\n",
    "# dfslim_cap[:100]"
   ]
  },
  {
   "cell_type": "code",
   "execution_count": null,
   "metadata": {},
   "outputs": [],
   "source": [
    "# tabular display of actual and predicted for 100 , 200 and 365 \n",
    "actual_predicted100 = pd.DataFrame(zip(dfslim[\"y\"][:465], forecast100[\"yhat\"]), columns=[\"actual\", \"predicted\"])\n",
    "actual_predicted.head(100)\n",
    "\n",
    "actual_predicted200 = pd.DataFrame(zip(dfslim[\"y\"][:465], forecast200[\"yhat\"]), columns=[\"actual\", \"predicted\"])\n",
    "actual_predicted.head(200)\n",
    "\n",
    "actual_predicted100 = pd.DataFrame(zip(dfslim[\"y\"][:465], forecast365[\"yhat\"]), columns=[\"actual\", \"predicted\"])\n",
    "actual_predicted.head(365)"
   ]
  },
  {
   "cell_type": "markdown",
   "metadata": {},
   "source": [
    "# for 100 days"
   ]
  },
  {
   "cell_type": "code",
   "execution_count": null,
   "metadata": {},
   "outputs": [],
   "source": [
    "m = Prophet(daily_seasonality=True, growth='logistic')\n",
    "m.fit(dfslim_cap[:100])"
   ]
  },
  {
   "cell_type": "code",
   "execution_count": null,
   "metadata": {},
   "outputs": [],
   "source": [
    "future_daily_100_logistic = m.make_future_dataframe(periods=100)\n",
    "future_daily_100_logistic['cap'] = cap\n",
    "forceast100_logistic = m.predict(future_daily_100_logistic)\n",
    "fig1 = m.plot(forceast100_logistic)"
   ]
  },
  {
   "cell_type": "code",
   "execution_count": null,
   "metadata": {},
   "outputs": [],
   "source": [
    "m = Prophet(daily_seasonality=True)\n",
    "m.add_seasonality(name='daily', period=1, fourier_order=2)\n",
    "forceast100_seasonality = m.fit(dfslim_cap[:100]).predict(future_daily_100)\n",
    "fig1 = m.plot_components(forceast100_seasonality)"
   ]
  },
  {
   "cell_type": "code",
   "execution_count": null,
   "metadata": {},
   "outputs": [],
   "source": [
    "fig1 = m.plot(forceast100_seasonality)\n",
    "a = add_changepoints_to_plot(fig1.gca(), m, forceast100_seasonality)"
   ]
  },
  {
   "cell_type": "code",
   "execution_count": null,
   "metadata": {},
   "outputs": [],
   "source": [
    "m.changepoints"
   ]
  },
  {
   "cell_type": "code",
   "execution_count": null,
   "metadata": {},
   "outputs": [],
   "source": [
    "m_changepoints = Prophet(daily_seasonality=True, changepoints=m.changepoints)\n",
    "forecast_changepoints = m_changepoints.fit(dfslim_cap[:100]).predict(future_daily_100)\n",
    "m_changepoints.plot(forecast_changepoints);"
   ]
  },
  {
   "cell_type": "code",
   "execution_count": null,
   "metadata": {},
   "outputs": [],
   "source": [
    "m_changepoint_prior_scale = Prophet(daily_seasonality=True, changepoint_prior_scale=0.5)\n",
    "forecast_changepoint_prior_scale = m_changepoint_prior_scale.fit(dfslim_cap[:100]).predict(future_daily_100)\n",
    "m_changepoint_prior_scale.plot(forecast_changepoint_prior_scale);"
   ]
  },
  {
   "cell_type": "code",
   "execution_count": null,
   "metadata": {},
   "outputs": [],
   "source": [
    "# MAE MAPE r2 equations"
   ]
  },
  {
   "cell_type": "code",
   "execution_count": null,
   "metadata": {},
   "outputs": [],
   "source": [
    "MAE = sklearn.metrics.mean_absolute_error(dfslim_cap[\"y\"][100:200], forecast_changepoint_prior_scale['yhat'][100:200])\n",
    "MAPE = sklearn.metrics.mean_absolute_percentage_error(dfslim_cap[\"y\"][100:200], forecast_changepoint_prior_scale['yhat'][100:200])\n",
    "R_2 = sklearn.metrics.r2_score(dfslim_cap[\"y\"][100:200], forecast_changepoint_prior_scale['yhat'][100:200])"
   ]
  },
  {
   "cell_type": "markdown",
   "metadata": {},
   "source": [
    "# for 200 days"
   ]
  },
  {
   "cell_type": "code",
   "execution_count": null,
   "metadata": {},
   "outputs": [],
   "source": [
    "m = Prophet(daily_seasonality=True, growth='logistic') \n",
    "m.fit(dfslim_cap[:200])"
   ]
  },
  {
   "cell_type": "code",
   "execution_count": null,
   "metadata": {},
   "outputs": [],
   "source": [
    "m = Prophet(daily_seasonality=True)\n",
    "m.add_seasonality(name='daily', period=1, fourier_order=2)\n",
    "forceast200_seasonality = m.fit(dfslim_cap[:200]).predict(future_daily_200)\n",
    "fig2 = m.plot_components(forceast200_seasonality)"
   ]
  },
  {
   "cell_type": "code",
   "execution_count": null,
   "metadata": {},
   "outputs": [],
   "source": [
    "fig2 = m.plot(forceast200_seasonality)\n",
    "a = add_changepoints_to_plot(fig2.gca(), m, forceast200_seasonality)"
   ]
  },
  {
   "cell_type": "code",
   "execution_count": null,
   "metadata": {},
   "outputs": [],
   "source": [
    "m.changepoints"
   ]
  },
  {
   "cell_type": "code",
   "execution_count": null,
   "metadata": {},
   "outputs": [],
   "source": [
    "m_changepoints = Prophet(daily_seasonality=True, changepoints=m.changepoints)\n",
    "forecast_changepoints = m_changepoints.fit(dfslim_cap[:200]).predict(future_daily_200)\n",
    "m_changepoints.plot(forecast_changepoints);"
   ]
  },
  {
   "cell_type": "code",
   "execution_count": null,
   "metadata": {},
   "outputs": [],
   "source": [
    "m_changepoint_prior_scale = Prophet(daily_seasonality=True, changepoint_prior_scale=0.5)\n",
    "forecast_changepoint_prior_scale = m_changepoint_prior_scale.fit(dfslim_cap[:200]).predict(future_daily_200)\n",
    "m_changepoint_prior_scale.plot(forecast_changepoint_prior_scale);"
   ]
  },
  {
   "cell_type": "code",
   "execution_count": null,
   "metadata": {},
   "outputs": [],
   "source": [
    "# need to add MAE MAPE r2 equations"
   ]
  },
  {
   "cell_type": "code",
   "execution_count": null,
   "metadata": {},
   "outputs": [],
   "source": [
    "MAE = sklearn.metrics.mean_absolute_error(dfslim_cap[\"y\"][100:200], forecast_changepoint_prior_scale['yhat'][100:200])\n",
    "MAPE = sklearn.metrics.mean_absolute_percentage_error(dfslim_cap[\"y\"][100:200], forecast_changepoint_prior_scale['yhat'][100:200])\n",
    "R_2 = sklearn.metrics.r2_score(dfslim_cap[\"y\"][100:200], forecast_changepoint_prior_scale['yhat'][100:200])"
   ]
  },
  {
   "cell_type": "markdown",
   "metadata": {},
   "source": [
    "# for 365 days "
   ]
  },
  {
   "cell_type": "code",
   "execution_count": null,
   "metadata": {},
   "outputs": [],
   "source": [
    "m = Prophet(daily_seasonality=True, growth='logistic') \n",
    "m.fit(dfslim_cap[:365])"
   ]
  },
  {
   "cell_type": "code",
   "execution_count": null,
   "metadata": {},
   "outputs": [],
   "source": [
    "m = Prophet(daily_seasonality=True)\n",
    "m.add_seasonality(name='daily', period=1, fourier_order=2)\n",
    "forceast365_seasonality = m.fit(dfslim_cap[:365]).predict(future_daily_365)\n",
    "fig3 = m.plot_components(forceast365_seasonality)"
   ]
  },
  {
   "cell_type": "code",
   "execution_count": null,
   "metadata": {},
   "outputs": [],
   "source": [
    "fig3 = m.plot(forceast365_seasonality)\n",
    "a = add_changepoints_to_plot(fig3.gca(), m, forceast365_seasonality)"
   ]
  },
  {
   "cell_type": "code",
   "execution_count": null,
   "metadata": {},
   "outputs": [],
   "source": [
    "m.changepoints"
   ]
  },
  {
   "cell_type": "code",
   "execution_count": null,
   "metadata": {},
   "outputs": [],
   "source": [
    "m_changepoints = Prophet(daily_seasonality=True, changepoints=m.changepoints)\n",
    "forecast_changepoints = m_changepoints.fit(dfslim_cap[:365]).predict(future_daily_365)\n",
    "m_changepoints.plot(forecast_changepoints);"
   ]
  },
  {
   "cell_type": "code",
   "execution_count": null,
   "metadata": {},
   "outputs": [],
   "source": [
    "m_changepoint_prior_scale = Prophet(daily_seasonality=True, changepoint_prior_scale=0.5)\n",
    "forecast_changepoint_prior_scale = m_changepoint_prior_scale.fit(dfslim_cap[:365]).predict(future_daily_365)\n",
    "m_changepoint_prior_scale.plot(forecast_changepoint_prior_scale);"
   ]
  },
  {
   "cell_type": "code",
   "execution_count": null,
   "metadata": {},
   "outputs": [],
   "source": [
    "# MAE MAPE r2 equations"
   ]
  },
  {
   "cell_type": "code",
   "execution_count": null,
   "metadata": {},
   "outputs": [],
   "source": [
    "MAE = sklearn.metrics.mean_absolute_error(dfslim_cap[\"y\"][100:200], forecast_changepoint_prior_scale['yhat'][100:200])\n",
    "MAPE = sklearn.metrics.mean_absolute_percentage_error(dfslim_cap[\"y\"][100:200], forecast_changepoint_prior_scale['yhat'][100:200])\n",
    "R_2 = sklearn.metrics.r2_score(dfslim_cap[\"y\"][100:200], forecast_changepoint_prior_scale['yhat'][100:200])"
   ]
  },
  {
   "cell_type": "markdown",
   "metadata": {},
   "source": [
    "# Reading the data and exploring the data for Monthly Data"
   ]
  },
  {
   "cell_type": "code",
   "execution_count": 43,
   "metadata": {},
   "outputs": [
    {
     "data": {
      "text/plain": [
       "0       1749\n",
       "1       1749\n",
       "2       1749\n",
       "3       1749\n",
       "4       1749\n",
       "        ... \n",
       "3261    2020\n",
       "3262    2020\n",
       "3263    2021\n",
       "3264    2021\n",
       "3265    2021\n",
       "Name: 1749, Length: 3266, dtype: int64"
      ]
     },
     "execution_count": 43,
     "metadata": {},
     "output_type": "execute_result"
    }
   ],
   "source": [
    "df = pd.read_csv('SN_m_tot_V2.0.csv', delimiter=\";\")\n",
    "df['day'] = '1'"
   ]
  },
  {
   "cell_type": "code",
   "execution_count": 44,
   "metadata": {},
   "outputs": [
    {
     "ename": "SyntaxError",
     "evalue": "unexpected EOF while parsing (<ipython-input-44-e4f698387840>, line 2)",
     "output_type": "error",
     "traceback": [
      "\u001b[0;36m  File \u001b[0;32m\"<ipython-input-44-e4f698387840>\"\u001b[0;36m, line \u001b[0;32m2\u001b[0m\n\u001b[0;31m    df['date'] = pd.to_datetime(df[df.columns[0]] + df[df.columns[1]] + df[\"day\"]\u001b[0m\n\u001b[0m                                                                                 ^\u001b[0m\n\u001b[0;31mSyntaxError\u001b[0m\u001b[0;31m:\u001b[0m unexpected EOF while parsing\n"
     ]
    }
   ],
   "source": [
    "df['date'] = pd.to_datetime(df[df.columns[0]] + df[df.columns[1]] + df[\"day\"] # no date, need default date"
   ]
  },
  {
   "cell_type": "code",
   "execution_count": null,
   "metadata": {},
   "outputs": [],
   "source": [
    "df.head()"
   ]
  },
  {
   "cell_type": "code",
   "execution_count": null,
   "metadata": {},
   "outputs": [],
   "source": [
    "dfslim = df[['date', 'dsn']]\n",
    "dfslim = dfslim.rename(columns={'date':'ds', 'dsn': 'y'})\n",
    "dfslim[:20]"
   ]
  },
  {
   "cell_type": "code",
   "execution_count": null,
   "metadata": {},
   "outputs": [],
   "source": [
    "m = Prophet(daily_seasonality=True)\n",
    "m.fit(dfslim[:1])"
   ]
  },
  {
   "cell_type": "code",
   "execution_count": null,
   "metadata": {},
   "outputs": [],
   "source": [
    "future_monthly_1 = m.make_future_dataframe(periods=1) \n",
    "future_monthly_6 = m.make_future_dataframe(periods=6)\n",
    "future_monthly_9 = m.make_future_dataframe(periods=9)"
   ]
  },
  {
   "cell_type": "code",
   "execution_count": null,
   "metadata": {},
   "outputs": [],
   "source": [
    "print(future_monthly_1.tail())\n",
    "print(future_monthly_6.tail())\n",
    "print(future_monthly_9.tail())"
   ]
  },
  {
   "cell_type": "code",
   "execution_count": null,
   "metadata": {},
   "outputs": [],
   "source": [
    "forecast1 = m.predict(future_monthly_1)\n",
    "forecast6 = m.predict(future_monthly_6)\n",
    "forecast9 = m.predict(future_monthly_9)"
   ]
  },
  {
   "cell_type": "code",
   "execution_count": null,
   "metadata": {},
   "outputs": [],
   "source": [
    "forecast1[['ds', 'yhat', 'yhat_lower', 'yhat_upper']].tail()"
   ]
  },
  {
   "cell_type": "code",
   "execution_count": null,
   "metadata": {},
   "outputs": [],
   "source": [
    "forecast6[['ds', 'yhat', 'yhat_lower', 'yhat_upper']].tail()"
   ]
  },
  {
   "cell_type": "code",
   "execution_count": null,
   "metadata": {},
   "outputs": [],
   "source": [
    "forecast9[['ds', 'yhat', 'yhat_lower', 'yhat_upper']].tail()"
   ]
  },
  {
   "cell_type": "code",
   "execution_count": null,
   "metadata": {},
   "outputs": [],
   "source": [
    "fig1 = m.plot(forecast1)"
   ]
  },
  {
   "cell_type": "code",
   "execution_count": null,
   "metadata": {},
   "outputs": [],
   "source": [
    "fig6 = m.plot(forecast6)"
   ]
  },
  {
   "cell_type": "code",
   "execution_count": null,
   "metadata": {},
   "outputs": [],
   "source": [
    "fig9 = m.plot(forecast9)"
   ]
  },
  {
   "cell_type": "code",
   "execution_count": null,
   "metadata": {},
   "outputs": [],
   "source": [
    "cap = max(df['dsn'])"
   ]
  },
  {
   "cell_type": "code",
   "execution_count": null,
   "metadata": {},
   "outputs": [],
   "source": [
    "dfslim_cap = df[['date', 'dsn', 'cap']]\n",
    "dfslim_cap = dfslim_cap.rename(columns={'date':'ds', 'dsn': 'y', 'cap': 'cap'})\n",
    "dfslim_cap.head()\n",
    "# dfslim_cap = df.insert(2, \"cap\", cap)\n",
    "# dfslim_cap[:1]"
   ]
  },
  {
   "cell_type": "markdown",
   "metadata": {},
   "source": [
    "# for 1 month"
   ]
  },
  {
   "cell_type": "code",
   "execution_count": null,
   "metadata": {},
   "outputs": [],
   "source": [
    "m = Prophet(daily_seasonality=True, growth='logistic') #lineaer # flat\n",
    "m.fit(dfslim_cap[:1])"
   ]
  },
  {
   "cell_type": "code",
   "execution_count": null,
   "metadata": {},
   "outputs": [],
   "source": [
    "future_monthly_1_logistic = m.make_future_dataframe(periods=1)\n",
    "future_monthly_1_logistic['cap'] = cap\n",
    "forceast1_logistic = m.predict(future_monthly_1_logistic)\n",
    "fig1 = m.plot(forceast1_logistic)"
   ]
  },
  {
   "cell_type": "code",
   "execution_count": null,
   "metadata": {},
   "outputs": [],
   "source": [
    "m = Prophet(daily_seasonality=True)\n",
    "m.add_seasonality(name='daily', period=1, fourier_order=2)\n",
    "forceast1_seasonality = m.fit(dfslim_cap[:1]).predict(future_monthly_1)\n",
    "fig1 = m.plot_components(forceast1_seasonality)"
   ]
  },
  {
   "cell_type": "code",
   "execution_count": null,
   "metadata": {},
   "outputs": [],
   "source": [
    "fig1 = m.plot(forceast1_seasonality)\n",
    "a = add_changepoints_to_plot(fig1.gca(), m, forceast1_seasonality)"
   ]
  },
  {
   "cell_type": "code",
   "execution_count": null,
   "metadata": {},
   "outputs": [],
   "source": [
    "m.changepoints"
   ]
  },
  {
   "cell_type": "code",
   "execution_count": null,
   "metadata": {},
   "outputs": [],
   "source": [
    "m_changepoints = Prophet(daily_seasonality=True, changepoints=m.changepoints)\n",
    "forecast_changepoints = m_changepoints.fit(dfslim_cap[:1]).predict(future_monthly_1)\n",
    "m_changepoints.plot(forecast_changepoints);"
   ]
  },
  {
   "cell_type": "code",
   "execution_count": null,
   "metadata": {},
   "outputs": [],
   "source": [
    "m_changepoint_prior_scale = Prophet(daily_seasonality=True, changepoint_prior_scale=0.5)\n",
    "forecast_changepoint_prior_scale = m_changepoint_prior_scale.fit(dfslim_cap[:1]).predict(future_monthly_1)\n",
    "m_changepoint_prior_scale.plot(forecast_changepoint_prior_scale);"
   ]
  },
  {
   "cell_type": "code",
   "execution_count": null,
   "metadata": {},
   "outputs": [],
   "source": [
    "# MAE MAPE r2 equations"
   ]
  },
  {
   "cell_type": "code",
   "execution_count": null,
   "metadata": {},
   "outputs": [],
   "source": [
    "MAE = sklearn.metrics.mean_absolute_error(dfslim_cap[\"y\"][100:200], forecast_changepoint_prior_scale['yhat'][100:200])\n",
    "MAPE = sklearn.metrics.mean_absolute_percentage_error(dfslim_cap[\"y\"][100:200], forecast_changepoint_prior_scale['yhat'][100:200])\n",
    "R_2 = sklearn.metrics.r2_score(dfslim_cap[\"y\"][100:200], forecast_changepoint_prior_scale['yhat'][100:200])"
   ]
  },
  {
   "cell_type": "markdown",
   "metadata": {},
   "source": [
    "# for 6 month"
   ]
  },
  {
   "cell_type": "code",
   "execution_count": null,
   "metadata": {},
   "outputs": [],
   "source": [
    "m = Prophet(daily_seasonality=True, growth='logistic') \n",
    "m.fit(dfslim_cap[:6])"
   ]
  },
  {
   "cell_type": "code",
   "execution_count": null,
   "metadata": {},
   "outputs": [],
   "source": [
    "m = Prophet(daily_seasonality=True)\n",
    "m.add_seasonality(name='daily', period=1, fourier_order=2)\n",
    "forceast6_seasonality = m.fit(dfslim_cap[:6]).predict(future_monthly_6)\n",
    "fig1 = m.plot_components(forceast6_seasonality)"
   ]
  },
  {
   "cell_type": "code",
   "execution_count": null,
   "metadata": {},
   "outputs": [],
   "source": [
    "fig1 = m.plot(forceast6_seasonality)\n",
    "a = add_changepoints_to_plot(fig1.gca(), m, forceast6_seasonality)"
   ]
  },
  {
   "cell_type": "code",
   "execution_count": null,
   "metadata": {},
   "outputs": [],
   "source": [
    "m.changepoints"
   ]
  },
  {
   "cell_type": "code",
   "execution_count": null,
   "metadata": {},
   "outputs": [],
   "source": [
    "m_changepoints = Prophet(daily_seasonality=True, changepoints=m.changepoints)\n",
    "forecast_changepoints = m_changepoints.fit(dfslim_cap[:6]).predict(future_monthly_6)\n",
    "m_changepoints.plot(forecast_changepoints);"
   ]
  },
  {
   "cell_type": "code",
   "execution_count": null,
   "metadata": {},
   "outputs": [],
   "source": [
    "m_changepoint_prior_scale = Prophet(daily_seasonality=True, changepoint_prior_scale=0.5)\n",
    "forecast_changepoint_prior_scale = m_changepoint_prior_scale.fit(dfslim_cap[:6]).predict(future_monthly_6)\n",
    "m_changepoint_prior_scale.plot(forecast_changepoint_prior_scale);"
   ]
  },
  {
   "cell_type": "code",
   "execution_count": null,
   "metadata": {},
   "outputs": [],
   "source": [
    "# MAE MAPE r2 equations"
   ]
  },
  {
   "cell_type": "code",
   "execution_count": null,
   "metadata": {},
   "outputs": [],
   "source": [
    "MAE = sklearn.metrics.mean_absolute_error(dfslim_cap[\"y\"][100:200], forecast_changepoint_prior_scale['yhat'][100:200])\n",
    "MAPE = sklearn.metrics.mean_absolute_percentage_error(dfslim_cap[\"y\"][100:200], forecast_changepoint_prior_scale['yhat'][100:200])\n",
    "R_2 = sklearn.metrics.r2_score(dfslim_cap[\"y\"][100:200], forecast_changepoint_prior_scale['yhat'][100:200])"
   ]
  },
  {
   "cell_type": "markdown",
   "metadata": {},
   "source": [
    "# for 9 month"
   ]
  },
  {
   "cell_type": "code",
   "execution_count": null,
   "metadata": {},
   "outputs": [],
   "source": [
    "m = Prophet(daily_seasonality=True, growth='logistic') \n",
    "m.fit(dfslim_cap[:9])"
   ]
  },
  {
   "cell_type": "code",
   "execution_count": null,
   "metadata": {},
   "outputs": [],
   "source": [
    "m = Prophet(daily_seasonality=True)\n",
    "m.add_seasonality(name='daily', period=1, fourier_order=2)\n",
    "forceast9_seasonality = m.fit(dfslim_cap[:9]).predict(future_monthly_9)\n",
    "fig1 = m.plot_components(forceast9_seasonality)"
   ]
  },
  {
   "cell_type": "code",
   "execution_count": null,
   "metadata": {},
   "outputs": [],
   "source": [
    "fig1 = m.plot(forceast9_seasonality)\n",
    "a = add_changepoints_to_plot(fig1.gca(), m, forceast9_seasonality)"
   ]
  },
  {
   "cell_type": "code",
   "execution_count": null,
   "metadata": {},
   "outputs": [],
   "source": [
    "m.changepoints"
   ]
  },
  {
   "cell_type": "code",
   "execution_count": null,
   "metadata": {},
   "outputs": [],
   "source": [
    "m_changepoints = Prophet(daily_seasonality=True, changepoints=m.changepoints)\n",
    "forecast_changepoints = m_changepoints.fit(dfslim_cap[:9]).predict(future_monthly_9)\n",
    "m_changepoints.plot(forecast_changepoints);"
   ]
  },
  {
   "cell_type": "code",
   "execution_count": null,
   "metadata": {},
   "outputs": [],
   "source": [
    "m_changepoint_prior_scale = Prophet(daily_seasonality=True, changepoint_prior_scale=0.5)\n",
    "forecast_changepoint_prior_scale = m_changepoint_prior_scale.fit(dfslim_cap[:9]).predict(future_monthly_9)\n",
    "m_changepoint_prior_scale.plot(forecast_changepoint_prior_scale);"
   ]
  },
  {
   "cell_type": "code",
   "execution_count": null,
   "metadata": {},
   "outputs": [],
   "source": [
    "# MAE MAPE r2 equations"
   ]
  },
  {
   "cell_type": "code",
   "execution_count": null,
   "metadata": {},
   "outputs": [],
   "source": [
    "MAE = sklearn.metrics.mean_absolute_error(dfslim_cap[\"y\"][100:200], forecast_changepoint_prior_scale['yhat'][100:200])\n",
    "MAPE = sklearn.metrics.mean_absolute_percentage_error(dfslim_cap[\"y\"][100:200], forecast_changepoint_prior_scale['yhat'][100:200])\n",
    "R_2 = sklearn.metrics.r2_score(dfslim_cap[\"y\"][100:200], forecast_changepoint_prior_scale['yhat'][100:200])"
   ]
  },
  {
   "cell_type": "markdown",
   "metadata": {},
   "source": [
    "# Reading the data and exploring the data for yearly Data"
   ]
  },
  {
   "cell_type": "code",
   "execution_count": 13,
   "metadata": {},
   "outputs": [
    {
     "data": {
      "text/html": [
       "<div>\n",
       "<style scoped>\n",
       "    .dataframe tbody tr th:only-of-type {\n",
       "        vertical-align: middle;\n",
       "    }\n",
       "\n",
       "    .dataframe tbody tr th {\n",
       "        vertical-align: top;\n",
       "    }\n",
       "\n",
       "    .dataframe thead th {\n",
       "        text-align: right;\n",
       "    }\n",
       "</style>\n",
       "<table border=\"1\" class=\"dataframe\">\n",
       "  <thead>\n",
       "    <tr style=\"text-align: right;\">\n",
       "      <th></th>\n",
       "      <th>1700.5</th>\n",
       "      <th>8.3</th>\n",
       "      <th>-1.0</th>\n",
       "      <th>-1</th>\n",
       "      <th>1</th>\n",
       "    </tr>\n",
       "  </thead>\n",
       "  <tbody>\n",
       "    <tr>\n",
       "      <th>0</th>\n",
       "      <td>1701.5</td>\n",
       "      <td>18.3</td>\n",
       "      <td>-1.0</td>\n",
       "      <td>-1</td>\n",
       "      <td>1</td>\n",
       "    </tr>\n",
       "    <tr>\n",
       "      <th>1</th>\n",
       "      <td>1702.5</td>\n",
       "      <td>26.7</td>\n",
       "      <td>-1.0</td>\n",
       "      <td>-1</td>\n",
       "      <td>1</td>\n",
       "    </tr>\n",
       "    <tr>\n",
       "      <th>2</th>\n",
       "      <td>1703.5</td>\n",
       "      <td>38.3</td>\n",
       "      <td>-1.0</td>\n",
       "      <td>-1</td>\n",
       "      <td>1</td>\n",
       "    </tr>\n",
       "    <tr>\n",
       "      <th>3</th>\n",
       "      <td>1704.5</td>\n",
       "      <td>60.0</td>\n",
       "      <td>-1.0</td>\n",
       "      <td>-1</td>\n",
       "      <td>1</td>\n",
       "    </tr>\n",
       "    <tr>\n",
       "      <th>4</th>\n",
       "      <td>1705.5</td>\n",
       "      <td>96.7</td>\n",
       "      <td>-1.0</td>\n",
       "      <td>-1</td>\n",
       "      <td>1</td>\n",
       "    </tr>\n",
       "  </tbody>\n",
       "</table>\n",
       "</div>"
      ],
      "text/plain": [
       "   1700.5     8.3   -1.0      -1  1\n",
       "0  1701.5    18.3   -1.0      -1  1\n",
       "1  1702.5    26.7   -1.0      -1  1\n",
       "2  1703.5    38.3   -1.0      -1  1\n",
       "3  1704.5    60.0   -1.0      -1  1\n",
       "4  1705.5    96.7   -1.0      -1  1"
      ]
     },
     "execution_count": 13,
     "metadata": {},
     "output_type": "execute_result"
    }
   ],
   "source": [
    "df = pd.read_csv('SN_y_tot_V2.0.csv', delimiter=\";\")\n",
    "df.head()"
   ]
  },
  {
   "cell_type": "code",
   "execution_count": 15,
   "metadata": {},
   "outputs": [],
   "source": [
    "df['date'] = pd.to_datetime(df['1700.5']) # is there any better way? date looks weird af, maybe change date format"
   ]
  },
  {
   "cell_type": "code",
   "execution_count": 16,
   "metadata": {},
   "outputs": [
    {
     "data": {
      "text/html": [
       "<div>\n",
       "<style scoped>\n",
       "    .dataframe tbody tr th:only-of-type {\n",
       "        vertical-align: middle;\n",
       "    }\n",
       "\n",
       "    .dataframe tbody tr th {\n",
       "        vertical-align: top;\n",
       "    }\n",
       "\n",
       "    .dataframe thead th {\n",
       "        text-align: right;\n",
       "    }\n",
       "</style>\n",
       "<table border=\"1\" class=\"dataframe\">\n",
       "  <thead>\n",
       "    <tr style=\"text-align: right;\">\n",
       "      <th></th>\n",
       "      <th>1700.5</th>\n",
       "      <th>8.3</th>\n",
       "      <th>-1.0</th>\n",
       "      <th>-1</th>\n",
       "      <th>1</th>\n",
       "      <th>date</th>\n",
       "    </tr>\n",
       "  </thead>\n",
       "  <tbody>\n",
       "    <tr>\n",
       "      <th>0</th>\n",
       "      <td>1701.5</td>\n",
       "      <td>18.3</td>\n",
       "      <td>-1.0</td>\n",
       "      <td>-1</td>\n",
       "      <td>1</td>\n",
       "      <td>1970-01-01 00:00:00.000001701</td>\n",
       "    </tr>\n",
       "    <tr>\n",
       "      <th>1</th>\n",
       "      <td>1702.5</td>\n",
       "      <td>26.7</td>\n",
       "      <td>-1.0</td>\n",
       "      <td>-1</td>\n",
       "      <td>1</td>\n",
       "      <td>1970-01-01 00:00:00.000001702</td>\n",
       "    </tr>\n",
       "    <tr>\n",
       "      <th>2</th>\n",
       "      <td>1703.5</td>\n",
       "      <td>38.3</td>\n",
       "      <td>-1.0</td>\n",
       "      <td>-1</td>\n",
       "      <td>1</td>\n",
       "      <td>1970-01-01 00:00:00.000001703</td>\n",
       "    </tr>\n",
       "    <tr>\n",
       "      <th>3</th>\n",
       "      <td>1704.5</td>\n",
       "      <td>60.0</td>\n",
       "      <td>-1.0</td>\n",
       "      <td>-1</td>\n",
       "      <td>1</td>\n",
       "      <td>1970-01-01 00:00:00.000001704</td>\n",
       "    </tr>\n",
       "    <tr>\n",
       "      <th>4</th>\n",
       "      <td>1705.5</td>\n",
       "      <td>96.7</td>\n",
       "      <td>-1.0</td>\n",
       "      <td>-1</td>\n",
       "      <td>1</td>\n",
       "      <td>1970-01-01 00:00:00.000001705</td>\n",
       "    </tr>\n",
       "  </tbody>\n",
       "</table>\n",
       "</div>"
      ],
      "text/plain": [
       "   1700.5     8.3   -1.0      -1  1                          date\n",
       "0  1701.5    18.3   -1.0      -1  1 1970-01-01 00:00:00.000001701\n",
       "1  1702.5    26.7   -1.0      -1  1 1970-01-01 00:00:00.000001702\n",
       "2  1703.5    38.3   -1.0      -1  1 1970-01-01 00:00:00.000001703\n",
       "3  1704.5    60.0   -1.0      -1  1 1970-01-01 00:00:00.000001704\n",
       "4  1705.5    96.7   -1.0      -1  1 1970-01-01 00:00:00.000001705"
      ]
     },
     "execution_count": 16,
     "metadata": {},
     "output_type": "execute_result"
    }
   ],
   "source": [
    "df.head()"
   ]
  },
  {
   "cell_type": "code",
   "execution_count": 26,
   "metadata": {},
   "outputs": [
    {
     "ename": "SyntaxError",
     "evalue": "invalid syntax (<ipython-input-26-10fae52a50e9>, line 2)",
     "output_type": "error",
     "traceback": [
      "\u001b[0;36m  File \u001b[0;32m\"<ipython-input-26-10fae52a50e9>\"\u001b[0;36m, line \u001b[0;32m2\u001b[0m\n\u001b[0;31m    dfslim = dfslim.rename(columns={'date':'ds', df.iloc[2]: 'y'})\u001b[0m\n\u001b[0m    ^\u001b[0m\n\u001b[0;31mSyntaxError\u001b[0m\u001b[0;31m:\u001b[0m invalid syntax\n"
     ]
    }
   ],
   "source": [
    "dfslim = df[['date', df.iloc[2]]\n",
    "dfslim = dfslim.rename(columns={'date':'ds', df.iloc[2]: 'y'})\n",
    "dfslim[:20]"
   ]
  },
  {
   "cell_type": "code",
   "execution_count": null,
   "metadata": {},
   "outputs": [],
   "source": [
    "m = Prophet(daily_seasonality=True)\n",
    "m.fit(dfslim[:1])"
   ]
  },
  {
   "cell_type": "code",
   "execution_count": null,
   "metadata": {},
   "outputs": [],
   "source": [
    "future_yearly_1 = m.make_future_dataframe(periods=1) \n",
    "future_yearly_10 = m.make_future_dataframe(periods=10)\n",
    "future_yearly_20 = m.make_future_dataframe(periods=20)"
   ]
  },
  {
   "cell_type": "code",
   "execution_count": null,
   "metadata": {},
   "outputs": [],
   "source": [
    "print(future_yearly_1.tail())\n",
    "print(future_yearly_10.tail())\n",
    "print(future_yearly_20.tail())"
   ]
  },
  {
   "cell_type": "code",
   "execution_count": null,
   "metadata": {},
   "outputs": [],
   "source": [
    "forecast1 = m.predict(future_yearly_1)\n",
    "forecast10 = m.predict(future_yearly_10)\n",
    "forecast20 = m.predict(future_yearly_20)"
   ]
  },
  {
   "cell_type": "code",
   "execution_count": null,
   "metadata": {},
   "outputs": [],
   "source": [
    "forecast1[['ds', 'yhat', 'yhat_lower', 'yhat_upper']].tail()"
   ]
  },
  {
   "cell_type": "code",
   "execution_count": null,
   "metadata": {},
   "outputs": [],
   "source": [
    "forecast10[['ds', 'yhat', 'yhat_lower', 'yhat_upper']].tail()"
   ]
  },
  {
   "cell_type": "code",
   "execution_count": null,
   "metadata": {},
   "outputs": [],
   "source": [
    "forecast20[['ds', 'yhat', 'yhat_lower', 'yhat_upper']].tail()"
   ]
  },
  {
   "cell_type": "code",
   "execution_count": null,
   "metadata": {},
   "outputs": [],
   "source": [
    "fig1 = m.plot(forecast1)"
   ]
  },
  {
   "cell_type": "code",
   "execution_count": null,
   "metadata": {},
   "outputs": [],
   "source": [
    "fig10 = m.plot(forecast10)"
   ]
  },
  {
   "cell_type": "code",
   "execution_count": null,
   "metadata": {},
   "outputs": [],
   "source": [
    "fig20 = m.plot(forecast20)"
   ]
  },
  {
   "cell_type": "code",
   "execution_count": null,
   "metadata": {},
   "outputs": [],
   "source": [
    "cap = max(df['dsn'])"
   ]
  },
  {
   "cell_type": "code",
   "execution_count": null,
   "metadata": {},
   "outputs": [],
   "source": [
    "dfslim_cap = df[['date', 'dsn', 'cap']]\n",
    "dfslim_cap = dfslim_cap.rename(columns={'date':'ds', 'dsn': 'y', 'cap': 'cap'})\n",
    "dfslim_cap.head()\n",
    "# dfslim_cap = df.insert(2, \"cap\", cap)\n",
    "# dfslim_cap[:1]"
   ]
  },
  {
   "cell_type": "markdown",
   "metadata": {},
   "source": [
    "# for 1 Year"
   ]
  },
  {
   "cell_type": "code",
   "execution_count": null,
   "metadata": {},
   "outputs": [],
   "source": [
    "m = Prophet(daily_seasonality=True, growth='logistic') \n",
    "m.fit(dfslim_cap[:1])"
   ]
  },
  {
   "cell_type": "code",
   "execution_count": null,
   "metadata": {},
   "outputs": [],
   "source": [
    "future_yearly_1_logistic = m.make_future_dataframe(periods=1)\n",
    "future_yearly_1_logistic['cap'] = cap\n",
    "forceast1_logistic = m.predict(future_yearly_1_logistic)\n",
    "fig1 = m.plot(forceast1_logistic)"
   ]
  },
  {
   "cell_type": "code",
   "execution_count": null,
   "metadata": {},
   "outputs": [],
   "source": [
    "m = Prophet(daily_seasonality=True)\n",
    "m.add_seasonality(name='daily', period=1, fourier_order=2)\n",
    "forceast1_seasonality = m.fit(dfslim_cap[:1]).predict(future_yearly_1)\n",
    "fig1 = m.plot_components(forceast1_seasonality)"
   ]
  },
  {
   "cell_type": "code",
   "execution_count": null,
   "metadata": {},
   "outputs": [],
   "source": [
    "fig1 = m.plot(forceast1_seasonality)\n",
    "a = add_changepoints_to_plot(fig1.gca(), m, forceast1_seasonality)"
   ]
  },
  {
   "cell_type": "code",
   "execution_count": null,
   "metadata": {},
   "outputs": [],
   "source": [
    "m.changepoints"
   ]
  },
  {
   "cell_type": "code",
   "execution_count": null,
   "metadata": {},
   "outputs": [],
   "source": [
    "m_changepoints = Prophet(daily_seasonality=True, changepoints=m.changepoints)\n",
    "forecast_changepoints = m_changepoints.fit(dfslim_cap[:1]).predict(future_yearly_1)\n",
    "m_changepoints.plot(forecast_changepoints);"
   ]
  },
  {
   "cell_type": "code",
   "execution_count": null,
   "metadata": {},
   "outputs": [],
   "source": [
    "m_changepoint_prior_scale = Prophet(daily_seasonality=True, changepoint_prior_scale=0.5)\n",
    "forecast_changepoint_prior_scale = m_changepoint_prior_scale.fit(dfslim_cap[:1]).predict(future_yearly_1)\n",
    "m_changepoint_prior_scale.plot(forecast_changepoint_prior_scale);"
   ]
  },
  {
   "cell_type": "code",
   "execution_count": null,
   "metadata": {},
   "outputs": [],
   "source": [
    "# MAE MAPE r2 equations"
   ]
  },
  {
   "cell_type": "code",
   "execution_count": null,
   "metadata": {},
   "outputs": [],
   "source": [
    "MAE = sklearn.metrics.mean_absolute_error(dfslim_cap[\"y\"][100:200], forecast_changepoint_prior_scale['yhat'][100:200])\n",
    "MAPE = sklearn.metrics.mean_absolute_percentage_error(dfslim_cap[\"y\"][100:200], forecast_changepoint_prior_scale['yhat'][100:200])\n",
    "R_2 = sklearn.metrics.r2_score(dfslim_cap[\"y\"][100:200], forecast_changepoint_prior_scale['yhat'][100:200])"
   ]
  },
  {
   "cell_type": "markdown",
   "metadata": {},
   "source": [
    "# for 10 Year"
   ]
  },
  {
   "cell_type": "code",
   "execution_count": null,
   "metadata": {},
   "outputs": [],
   "source": [
    "m = Prophet(daily_seasonality=True, growth='logistic') \n",
    "m.fit(dfslim_cap[:10])"
   ]
  },
  {
   "cell_type": "code",
   "execution_count": null,
   "metadata": {},
   "outputs": [],
   "source": [
    "m = Prophet(daily_seasonality=True)\n",
    "m.add_seasonality(name='daily', period=1, fourier_order=2)\n",
    "forceast10_seasonality = m.fit(dfslim_cap[:10]).predict(future_yearly_10)\n",
    "fig1 = m.plot_components(forceast10_seasonality)"
   ]
  },
  {
   "cell_type": "code",
   "execution_count": null,
   "metadata": {},
   "outputs": [],
   "source": [
    "fig1 = m.plot(forceast10_seasonality)\n",
    "a = add_changepoints_to_plot(fig1.gca(), m, forceast10_seasonality)"
   ]
  },
  {
   "cell_type": "code",
   "execution_count": null,
   "metadata": {},
   "outputs": [],
   "source": [
    "m.changepoints"
   ]
  },
  {
   "cell_type": "code",
   "execution_count": null,
   "metadata": {},
   "outputs": [],
   "source": [
    "m_changepoints = Prophet(daily_seasonality=True, changepoints=m.changepoints)\n",
    "forecast_changepoints = m_changepoints.fit(dfslim_cap[:10]).predict(future_yearly_10)\n",
    "m_changepoints.plot(forecast_changepoints);"
   ]
  },
  {
   "cell_type": "code",
   "execution_count": null,
   "metadata": {},
   "outputs": [],
   "source": [
    "m_changepoint_prior_scale = Prophet(daily_seasonality=True, changepoint_prior_scale=0.5)\n",
    "forecast_changepoint_prior_scale = m_changepoint_prior_scale.fit(dfslim_cap[:10]).predict(future_yearly_10)\n",
    "m_changepoint_prior_scale.plot(forecast_changepoint_prior_scale);"
   ]
  },
  {
   "cell_type": "code",
   "execution_count": null,
   "metadata": {},
   "outputs": [],
   "source": [
    "# MAE MAPE r2 equations"
   ]
  },
  {
   "cell_type": "code",
   "execution_count": null,
   "metadata": {},
   "outputs": [],
   "source": [
    "MAE = sklearn.metrics.mean_absolute_error(dfslim_cap[\"y\"][100:200], forecast_changepoint_prior_scale['yhat'][100:200])\n",
    "MAPE = sklearn.metrics.mean_absolute_percentage_error(dfslim_cap[\"y\"][100:200], forecast_changepoint_prior_scale['yhat'][100:200])\n",
    "R_2 = sklearn.metrics.r2_score(dfslim_cap[\"y\"][100:200], forecast_changepoint_prior_scale['yhat'][100:200])"
   ]
  },
  {
   "cell_type": "markdown",
   "metadata": {},
   "source": [
    "# for 20 Year"
   ]
  },
  {
   "cell_type": "code",
   "execution_count": null,
   "metadata": {},
   "outputs": [],
   "source": [
    "m = Prophet(daily_seasonality=True, growth='logistic') \n",
    "m.fit(dfslim_cap[:20])"
   ]
  },
  {
   "cell_type": "code",
   "execution_count": null,
   "metadata": {},
   "outputs": [],
   "source": [
    "m = Prophet(daily_seasonality=True)\n",
    "m.add_seasonality(name='daily', period=1, fourier_order=2)\n",
    "forceast20_seasonality = m.fit(dfslim_cap[:20]).predict(future_yearly_20)\n",
    "fig1 = m.plot_components(forceast20_seasonality)"
   ]
  },
  {
   "cell_type": "code",
   "execution_count": null,
   "metadata": {},
   "outputs": [],
   "source": [
    "fig1 = m.plot(forceast20_seasonality)\n",
    "a = add_changepoints_to_plot(fig1.gca(), m, forceast20_seasonality)"
   ]
  },
  {
   "cell_type": "code",
   "execution_count": null,
   "metadata": {},
   "outputs": [],
   "source": [
    "m.changepoints"
   ]
  },
  {
   "cell_type": "code",
   "execution_count": null,
   "metadata": {},
   "outputs": [],
   "source": [
    "m_changepoints = Prophet(daily_seasonality=True, changepoints=m.changepoints)\n",
    "forecast_changepoints = m_changepoints.fit(dfslim_cap[:20]).predict(future_yearly_20)\n",
    "m_changepoints.plot(forecast_changepoints);"
   ]
  },
  {
   "cell_type": "code",
   "execution_count": null,
   "metadata": {},
   "outputs": [],
   "source": [
    "m_changepoint_prior_scale = Prophet(daily_seasonality=True, changepoint_prior_scale=0.5)\n",
    "forecast_changepoint_prior_scale = m_changepoint_prior_scale.fit(dfslim_cap[:20]).predict(future_yearly_20)\n",
    "m_changepoint_prior_scale.plot(forecast_changepoint_prior_scale);"
   ]
  },
  {
   "cell_type": "code",
   "execution_count": null,
   "metadata": {},
   "outputs": [],
   "source": [
    "# MAE MAPE r2 equations\n",
    "MAE = sklearn.metrics.mean_absolute_error(dfslim_cap[\"y\"][100:200], forecast_changepoint_prior_scale['yhat'][100:200])\n",
    "MAPE = sklearn.metrics.mean_absolute_percentage_error(dfslim_cap[\"y\"][100:200], forecast_changepoint_prior_scale['yhat'][100:200])\n",
    "R_2 = sklearn.metrics.r2_score(dfslim_cap[\"y\"][100:200], forecast_changepoint_prior_scale['yhat'][100:200])"
   ]
  }
 ],
 "metadata": {
  "kernelspec": {
   "display_name": "Python 3",
   "language": "python",
   "name": "python3"
  },
  "language_info": {
   "codemirror_mode": {
    "name": "ipython",
    "version": 3
   },
   "file_extension": ".py",
   "mimetype": "text/x-python",
   "name": "python",
   "nbconvert_exporter": "python",
   "pygments_lexer": "ipython3",
   "version": "3.8.3"
  }
 },
 "nbformat": 4,
 "nbformat_minor": 4
}
